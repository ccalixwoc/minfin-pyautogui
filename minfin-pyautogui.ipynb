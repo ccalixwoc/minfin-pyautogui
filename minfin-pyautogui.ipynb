{
 "cells": [
  {
   "cell_type": "code",
   "execution_count": 54,
   "metadata": {},
   "outputs": [],
   "source": [
    "def download_public_costs():\n",
    "    \n",
    "    \"\"\"Download public costs excel spreadsheet by Guatemala Minsitry of Finance\n",
    "    Args: None\n",
    "    Retuns: None\n",
    "    \"\"\"\n",
    "    \n",
    "    from selenium import webdriver\n",
    "    import pyautogui\n",
    "    import time\n",
    "    \n",
    "    # Browser and URL info\n",
    "    pyautogui.PAUSE = 3\n",
    "    url = 'https://www.minfin.gob.gt/images/covid19/gasto.html'\n",
    "    driver = webdriver.Chrome()\n",
    "\n",
    "    # Retrieve URL and wait for dashboard to load\n",
    "    driver.maximize_window()\n",
    "    driver.get(url)\n",
    "    time.sleep(20)\n",
    "    \n",
    "    # Position mouse and download data\n",
    "    pyautogui.scroll(-500)\n",
    "    pyautogui.click(x=1476, y=634)\n"
   ]
  },
  {
   "cell_type": "code",
   "execution_count": 55,
   "metadata": {},
   "outputs": [],
   "source": [
    "download_public_costs()"
   ]
  }
 ],
 "metadata": {
  "kernelspec": {
   "display_name": "Python 3",
   "language": "python",
   "name": "python3"
  },
  "language_info": {
   "codemirror_mode": {
    "name": "ipython",
    "version": 3
   },
   "file_extension": ".py",
   "mimetype": "text/x-python",
   "name": "python",
   "nbconvert_exporter": "python",
   "pygments_lexer": "ipython3",
   "version": "3.7.3"
  }
 },
 "nbformat": 4,
 "nbformat_minor": 2
}
